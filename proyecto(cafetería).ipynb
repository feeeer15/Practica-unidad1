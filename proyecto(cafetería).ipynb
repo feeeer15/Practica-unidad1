{
 "cells": [
  {
   "cell_type": "code",
   "execution_count": 2,
   "metadata": {},
   "outputs": [],
   "source": [
    "class Persona:\n",
    "    def __init__(self, nombre):\n",
    "        self.nombre = nombre\n",
    "\n",
    "class Cliente(Persona):\n",
    "    def __init__(self, nombre):\n",
    "        super().__init__(nombre)\n",
    "        self.historial_pedidos = []\n",
    "        self.puntos_lealtad = 0\n",
    "\n",
    "    def realizar_pedido(self, pedido, inventario, promocion=None):\n",
    "        if pedido.verificar_disponibilidad(inventario):\n",
    "            if promocion and self.puntos_lealtad >= 50:\n",
    "                promocion.aplicar_descuento(pedido)\n",
    "            self.historial_pedidos.append(pedido)\n",
    "            self.puntos_lealtad += 10\n",
    "            pedido.actualizar_stock(inventario)\n",
    "            pedido.actualizar_estado(\"En preparación\")\n",
    "            print(\"Productos:\")\n",
    "            for producto in pedido.productos:\n",
    "                print(f\"- {producto.nombre}: ${producto.precio}\")\n",
    "            print(f\"Total con descuento: ${pedido.calcular_total()}\")\n",
    "        else:\n",
    "            print(\"El pedido no pude ser realizado ya que no hay los insumos suficientes\")\n",
    "\n",
    "    def consultar_historial(self):\n",
    "        print(f\"Historial pedidos de {self.nombre}\")\n",
    "        for pedido in self.historial_pedidos:\n",
    "            print(f\"Pedido con total: ${pedido.calcular_total()} - Estado: {pedido.estado}\")\n",
    "\n",
    "class Empleado(Persona):\n",
    "    def __init__(self, nombre, rol):\n",
    "        super().__init__(nombre)\n",
    "        self.rol = rol\n",
    "\n",
    "    def actualizar_inventario(self, inventario, ingrediente, cantidad):\n",
    "        inventario.agregar_ingrediente(ingrediente, cantidad)       \n",
    "        print(f\"Se han añadido {cantidad} unidades de {ingrediente}\") \n",
    "\n",
    "class ProductoBase:\n",
    "    def __init__(self, nombre, precio):\n",
    "        self.nombre = nombre\n",
    "        self.precio = precio\n",
    "        self.ingredientes = {}\n",
    "\n",
    "class Bebida(ProductoBase):\n",
    "    def __init__(self, nombre, precio, tamaño, tipo, personalizacion={}):\n",
    "        super().__init__(nombre, precio)\n",
    "        self.tamaño = tamaño\n",
    "        self.tipo = tipo\n",
    "        self.personalizacion = personalizacion\n",
    "        self.ingredientes = {\"Agua\": 1}\n",
    "        self.ingredientes.update(personalizacion)\n",
    "\n",
    "    def descripcion(self):\n",
    "        print(f\" ☆ Nombre: {self.nombre}\")\n",
    "        print(f\" ☆ Precio: ${self.precio}\")\n",
    "        print(f\" ☆ Tamaño: {self.tamaño}\")\n",
    "        print(\"Ingredientes:\")\n",
    "        for ingrediente in self.ingredientes:\n",
    "            print(f\"- {ingrediente}\")\n",
    "\n",
    "class Postre(ProductoBase):\n",
    "    def __init__(self, nombre, precio, personalizacion={}, vegano=False, sin_gluten=False):\n",
    "        super().__init__(nombre, precio)\n",
    "        self.vegano = vegano\n",
    "        self.sin_gluten = sin_gluten\n",
    "        self.personalizacion = personalizacion\n",
    "        self.ingredientes = {\"Harina\": 1}\n",
    "        self.ingredientes.update(personalizacion)\n",
    "\n",
    "    def descripcion(self):\n",
    "        print(f\" ☆ Nombre: {self.nombre}\")\n",
    "        print(f\" ☆ Precio: ${self.precio}\")\n",
    "        print(f\" ☆ Vegano: {'Si' if self.vegano else 'No'}\")\n",
    "        print(f\" ☆ Sin gluten: {'Si' if self.sin_gluten else 'No'}\")\n",
    "        print(\"Ingredientes:\")\n",
    "        for ingrediente in self.ingredientes:\n",
    "            print(f\"- {ingrediente}\")\n",
    "\n",
    "class Inventario:\n",
    "    def __init__(self):\n",
    "        self.stock = {}\n",
    "    \n",
    "    def agregar_articulo(self, ingrediente, cantidad):\n",
    "        self.stock[ingrediente] = self.stock.get(ingrediente, 0) + cantidad\n",
    "\n",
    "    def verificar_disponibilidad(self, ingredientes):\n",
    "        faltantes = [ing for ing, cantidad in ingredientes.items() if self.stock.get(ing, 0) < cantidad]\n",
    "        if faltantes:\n",
    "            print(f\" ☆ Faltan ingredientes: {', '.join(faltantes)}\")\n",
    "            return False\n",
    "        return True\n",
    "\n",
    "    def actualizar_stock(self, ingredientes):\n",
    "        for ing, cantidad in ingredientes.items():\n",
    "            if ing in self.stock:\n",
    "                self.stock[ing] -= cantidad\n",
    "\n",
    "    def consultar_inventario(self):\n",
    "        print(\"Inventario actual:\")\n",
    "        for ing, cantidad in self.stock.items():\n",
    "            print(f\"☆ {ing}: {cantidad} unidades\")\n",
    "\n",
    "\n",
    "class Pedido:\n",
    "    def __init__(self, cliente):\n",
    "        self.cliente = cliente\n",
    "        self.productos = []\n",
    "        self.estado = \"Pendiente\"\n",
    "        self.total = 0\n",
    "        print(f\" ☆ Se ha añadido un nuevo pedido para {self.cliente.nombre}\")\n",
    "\n",
    "\n",
    "    def agregar_producto(self, producto):\n",
    "        self.productos.append(producto)\n",
    "        self.total += producto.precio\n",
    "        print(f\" ☆ Se ha añadido {producto.nombre} con costo de ${producto.precio} al pedido de {self.cliente.nombre}\")\n",
    "\n",
    "    def calcular_total(self):\n",
    "        return self.total\n",
    "\n",
    "    def actualizar_estado(self, nuevo_estado):\n",
    "        self.estado = nuevo_estado\n",
    "        print(f\" ☆ Nuevo estado del pedido: {self.estado}\")\n",
    "\n",
    "    def verificar_disponibilidad(self, inventario):\n",
    "        return all(inventario.verificar_disponibilidad(prod.ingredientes) for prod in self.productos)\n",
    "\n",
    "    def actualizar_stock(self, inventario):\n",
    "        for prod in self.productos:\n",
    "            inventario.actualizar_stock(prod.ingredientes)\n",
    "\n",
    "class Promocion:\n",
    "    def __init__(self, descripcion, descuento):\n",
    "        self.descripcion = descripcion\n",
    "        self.descuento = descuento\n",
    "    \n",
    "    def aplicar_descuento(self, pedido):\n",
    "        pedido.total *= (1 - self.descuento / 100)"
   ]
  },
  {
   "cell_type": "code",
   "execution_count": 3,
   "metadata": {},
   "outputs": [],
   "source": [
    "inventario = Inventario()\n",
    "inventario.agregar_articulo(\"Café\", 20)\n",
    "inventario.agregar_articulo(\"Agua\", 50)\n",
    "inventario.agregar_articulo(\"Leche\", 30)\n",
    "inventario.agregar_articulo(\"Crema batida\", 15)\n",
    "inventario.agregar_articulo(\"Cheescake\", 10)\n"
   ]
  },
  {
   "cell_type": "code",
   "execution_count": 4,
   "metadata": {},
   "outputs": [
    {
     "name": "stdout",
     "output_type": "stream",
     "text": [
      "Inventario actual:\n",
      "☆ Café: 20 unidades\n",
      "☆ Agua: 50 unidades\n",
      "☆ Leche: 30 unidades\n",
      "☆ Crema batida: 15 unidades\n",
      "☆ Cheescake: 10 unidades\n"
     ]
    }
   ],
   "source": [
    "inventario.consultar_inventario()"
   ]
  },
  {
   "cell_type": "code",
   "execution_count": 5,
   "metadata": {},
   "outputs": [],
   "source": [
    "cliente1 = Cliente(\"Feeeer\")\n",
    "cliente2 = Cliente(\"Pauuu\")\n",
    "cliente3 = Cliente(\"Emi\")\n",
    "empleado1 = Empleado(\"Vale\", \"Barista\")\n",
    "empleado2 = Empleado(\"Roberto\", \"Mesero\")\n",
    "empleado3 = Empleado(\"Anita\", \"Gerente\")"
   ]
  },
  {
   "cell_type": "code",
   "execution_count": 6,
   "metadata": {},
   "outputs": [],
   "source": [
    "bebida1 = Bebida(\"Café Moka Capuchino\", 60, \"Grande\", \"Caliente\", {\"Café\": 1, \"Leche deslactosada\": 1, \"Azúcar\": 1, \"Chocolate\": 1})\n",
    "bebida2 = Bebida(\"Capuccino Vegano\", 50, \"Mediano\", \"Caliente\", {\"Café\": 1, \"Leche de almendra\": 1, \"Azúcar\": 1})\n",
    "bebida3 = Bebida(\"Café con Leche\", 50, \"Mediano\", \"Caliente\", {\"Café\": 1, \"Leche entera\": 1, \"Azúcar\": 1})\n",
    "postre1 = Postre(\"Afogatto de Vainilla\", 75, personalizacion={\"Azúcar\": 1, \"Vainilla\": 1})\n",
    "postre2 = Postre(\"Galleta de avena\", 30, personalizacion={\"Azúcar\": 1, \"Avena\": 1}, vegano=True)\n",
    "postre3 = Postre(\"Brownie Sin Gluten\", 30, personalizacion={\"Azúcar\": 1}, sin_gluten=True)"
   ]
  },
  {
   "cell_type": "code",
   "execution_count": 7,
   "metadata": {},
   "outputs": [
    {
     "name": "stdout",
     "output_type": "stream",
     "text": [
      " ☆ Nombre: Café Moka Capuchino\n",
      " ☆ Precio: $60\n",
      " ☆ Tamaño: Grande\n",
      "Ingredientes:\n",
      "- Agua\n",
      "- Café\n",
      "- Leche deslactosada\n",
      "- Azúcar\n",
      "- Chocolate\n",
      " ☆ Nombre: Afogatto de Vainilla\n",
      " ☆ Precio: $75\n",
      " ☆ Vegano: No\n",
      " ☆ Sin gluten: No\n",
      "Ingredientes:\n",
      "- Harina\n",
      "- Azúcar\n",
      "- Vainilla\n",
      " ☆ Nombre: Capuccino Vegano\n",
      " ☆ Precio: $50\n",
      " ☆ Tamaño: Mediano\n",
      "Ingredientes:\n",
      "- Agua\n",
      "- Café\n",
      "- Leche de almendra\n",
      "- Azúcar\n",
      " ☆ Nombre: Galleta de avena\n",
      " ☆ Precio: $30\n",
      " ☆ Vegano: Si\n",
      " ☆ Sin gluten: No\n",
      "Ingredientes:\n",
      "- Harina\n",
      "- Azúcar\n",
      "- Avena\n",
      " ☆ Nombre: Café con Leche\n",
      " ☆ Precio: $50\n",
      " ☆ Tamaño: Mediano\n",
      "Ingredientes:\n",
      "- Agua\n",
      "- Café\n",
      "- Leche entera\n",
      "- Azúcar\n",
      " ☆ Nombre: Brownie Sin Gluten\n",
      " ☆ Precio: $30\n",
      " ☆ Vegano: No\n",
      " ☆ Sin gluten: Si\n",
      "Ingredientes:\n",
      "- Harina\n",
      "- Azúcar\n"
     ]
    }
   ],
   "source": [
    "bebida1.descripcion()\n",
    "postre1.descripcion()\n",
    "bebida2.descripcion()\n",
    "postre2.descripcion()\n",
    "bebida3.descripcion()\n",
    "postre3.descripcion()"
   ]
  },
  {
   "cell_type": "code",
   "execution_count": 8,
   "metadata": {},
   "outputs": [
    {
     "name": "stdout",
     "output_type": "stream",
     "text": [
      " ☆ Se ha añadido un nuevo pedido para Feeeer\n",
      " ☆ Se ha añadido Café Moka Capuchino con costo de $60 al pedido de Feeeer\n",
      " ☆ Se ha añadido Afogatto de Vainilla con costo de $75 al pedido de Feeeer\n",
      " ☆ Se ha añadido un nuevo pedido para Pauuu\n",
      " ☆ Se ha añadido Capuccino Vegano con costo de $50 al pedido de Pauuu\n",
      " ☆ Se ha añadido Galleta de avena con costo de $30 al pedido de Pauuu\n",
      " ☆ Se ha añadido un nuevo pedido para Emi\n",
      " ☆ Se ha añadido Café con Leche con costo de $50 al pedido de Emi\n",
      " ☆ Se ha añadido Brownie Sin Gluten con costo de $30 al pedido de Emi\n"
     ]
    }
   ],
   "source": [
    "pedido1 = Pedido(cliente1)\n",
    "pedido1.agregar_producto(bebida1)\n",
    "pedido1.agregar_producto(postre1)\n",
    "\n",
    "pedido2 = Pedido(cliente2)\n",
    "pedido2.agregar_producto(bebida2)\n",
    "pedido2.agregar_producto(postre2)\n",
    "\n",
    "pedido3 = Pedido(cliente3)\n",
    "pedido3.agregar_producto(bebida3)\n",
    "pedido3.agregar_producto(postre3)"
   ]
  },
  {
   "cell_type": "code",
   "execution_count": 9,
   "metadata": {},
   "outputs": [],
   "source": [
    "promo = Promocion(\"Descuento de 10% para clientes frecuentes\", 10)"
   ]
  },
  {
   "cell_type": "code",
   "execution_count": 10,
   "metadata": {},
   "outputs": [
    {
     "name": "stdout",
     "output_type": "stream",
     "text": [
      " ☆ Faltan ingredientes: Leche deslactosada, Azúcar, Chocolate\n",
      "El pedido no pude ser realizado ya que no hay los insumos suficientes\n",
      " ☆ Faltan ingredientes: Leche de almendra, Azúcar\n",
      "El pedido no pude ser realizado ya que no hay los insumos suficientes\n",
      " ☆ Faltan ingredientes: Leche entera, Azúcar\n",
      "El pedido no pude ser realizado ya que no hay los insumos suficientes\n"
     ]
    }
   ],
   "source": [
    "cliente1.realizar_pedido(pedido1, inventario, promo)\n",
    "cliente2.realizar_pedido(pedido2, inventario, promo)\n",
    "cliente3.realizar_pedido(pedido3, inventario, promo)"
   ]
  },
  {
   "cell_type": "code",
   "execution_count": 11,
   "metadata": {},
   "outputs": [
    {
     "name": "stdout",
     "output_type": "stream",
     "text": [
      " ☆ Nuevo estado del pedido: Entregado\n",
      " ☆ Nuevo estado del pedido: Entregado\n",
      " ☆ Nuevo estado del pedido: Entregado\n"
     ]
    }
   ],
   "source": [
    "pedido1.actualizar_estado(\"Entregado\")\n",
    "pedido2.actualizar_estado(\"Entregado\")\n",
    "pedido3.actualizar_estado(\"Entregado\")"
   ]
  },
  {
   "cell_type": "code",
   "execution_count": 12,
   "metadata": {},
   "outputs": [
    {
     "name": "stdout",
     "output_type": "stream",
     "text": [
      "Historial pedidos de Feeeer\n",
      "Historial pedidos de Pauuu\n",
      "Historial pedidos de Emi\n"
     ]
    }
   ],
   "source": [
    "cliente1.consultar_historial()\n",
    "cliente2.consultar_historial()\n",
    "cliente3.consultar_historial()"
   ]
  },
  {
   "cell_type": "code",
   "execution_count": 13,
   "metadata": {},
   "outputs": [
    {
     "name": "stdout",
     "output_type": "stream",
     "text": [
      "Inventario actual:\n",
      "☆ Café: 20 unidades\n",
      "☆ Agua: 50 unidades\n",
      "☆ Leche: 30 unidades\n",
      "☆ Crema batida: 15 unidades\n",
      "☆ Cheescake: 10 unidades\n"
     ]
    }
   ],
   "source": [
    "inventario.consultar_inventario()"
   ]
  },
  {
   "cell_type": "code",
   "execution_count": null,
   "metadata": {},
   "outputs": [
    {
     "ename": "AttributeError",
     "evalue": "'Inventario' object has no attribute 'agregar_ingrediente'",
     "output_type": "error",
     "traceback": [
      "\u001b[1;31m---------------------------------------------------------------------------\u001b[0m",
      "\u001b[1;31mAttributeError\u001b[0m                            Traceback (most recent call last)",
      "Cell \u001b[1;32mIn[15], line 1\u001b[0m\n\u001b[1;32m----> 1\u001b[0m \u001b[43mempleado1\u001b[49m\u001b[38;5;241;43m.\u001b[39;49m\u001b[43mactualizar_inventario\u001b[49m\u001b[43m(\u001b[49m\u001b[43minventario\u001b[49m\u001b[43m,\u001b[49m\u001b[43m \u001b[49m\u001b[38;5;124;43m\"\u001b[39;49m\u001b[38;5;124;43mCafé\u001b[39;49m\u001b[38;5;124;43m\"\u001b[39;49m\u001b[43m,\u001b[49m\u001b[43m \u001b[49m\u001b[38;5;241;43m5\u001b[39;49m\u001b[43m)\u001b[49m\n",
      "Cell \u001b[1;32mIn[2], line 37\u001b[0m, in \u001b[0;36mEmpleado.actualizar_inventario\u001b[1;34m(self, inventario, ingrediente, cantidad)\u001b[0m\n\u001b[0;32m     36\u001b[0m \u001b[38;5;28;01mdef\u001b[39;00m\u001b[38;5;250m \u001b[39m\u001b[38;5;21mactualizar_inventario\u001b[39m(\u001b[38;5;28mself\u001b[39m, inventario, ingrediente, cantidad):\n\u001b[1;32m---> 37\u001b[0m     \u001b[43minventario\u001b[49m\u001b[38;5;241;43m.\u001b[39;49m\u001b[43magregar_ingrediente\u001b[49m(ingrediente, cantidad)       \n\u001b[0;32m     38\u001b[0m     \u001b[38;5;28mprint\u001b[39m(\u001b[38;5;124mf\u001b[39m\u001b[38;5;124m\"\u001b[39m\u001b[38;5;124mSe han añadido \u001b[39m\u001b[38;5;132;01m{\u001b[39;00mcantidad\u001b[38;5;132;01m}\u001b[39;00m\u001b[38;5;124m unidades de \u001b[39m\u001b[38;5;132;01m{\u001b[39;00mingrediente\u001b[38;5;132;01m}\u001b[39;00m\u001b[38;5;124m\"\u001b[39m)\n",
      "\u001b[1;31mAttributeError\u001b[0m: 'Inventario' object has no attribute 'agregar_ingrediente'"
     ]
    }
   ],
   "source": [
    "empleado1.actualizar_inventario(inventario, \"Café\", 5)"
   ]
  }
 ],
 "metadata": {
  "kernelspec": {
   "display_name": "Python 3",
   "language": "python",
   "name": "python3"
  },
  "language_info": {
   "codemirror_mode": {
    "name": "ipython",
    "version": 3
   },
   "file_extension": ".py",
   "mimetype": "text/x-python",
   "name": "python",
   "nbconvert_exporter": "python",
   "pygments_lexer": "ipython3",
   "version": "3.13.1"
  }
 },
 "nbformat": 4,
 "nbformat_minor": 2
}
